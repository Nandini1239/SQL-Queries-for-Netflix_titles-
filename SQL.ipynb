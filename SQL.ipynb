{
  "nbformat": 4,
  "nbformat_minor": 0,
  "metadata": {
    "colab": {
      "private_outputs": true,
      "provenance": []
    },
    "kernelspec": {
      "name": "python3",
      "display_name": "Python 3"
    },
    "language_info": {
      "name": "python"
    }
  },
  "cells": [
    {
      "cell_type": "code",
      "execution_count": null,
      "metadata": {
        "id": "ZW3lPzpnnJm-"
      },
      "outputs": [],
      "source": [
        "import numpy as np\n",
        "import pandas as pd"
      ]
    },
    {
      "cell_type": "code",
      "source": [
        "import os\n",
        "for dirname, _, filenames in os.walk('/kaggle/input'):\n",
        "    for filename in filenames:\n",
        "        print(os.path.join(dirname, filename))"
      ],
      "metadata": {
        "id": "9YW44Ql0nQpP"
      },
      "execution_count": null,
      "outputs": []
    },
    {
      "cell_type": "code",
      "execution_count": null,
      "metadata": {
        "id": "Hsg8JQRXZG5C"
      },
      "outputs": [],
      "source": [
        "import pandas as pd\n",
        "import sqlite3"
      ]
    },
    {
      "cell_type": "code",
      "source": [
        "df_netflix = pd.read_csv('/content/netflix_titles.csv')"
      ],
      "metadata": {
        "id": "4DkAEN6SL-Wi"
      },
      "execution_count": null,
      "outputs": []
    },
    {
      "cell_type": "code",
      "source": [
        "df_netflix.head()"
      ],
      "metadata": {
        "id": "Bl5lzgQwMDda"
      },
      "execution_count": null,
      "outputs": []
    },
    {
      "cell_type": "code",
      "source": [
        "print('The columns of the Netflix data frame are :-  ',df_netflix.columns)"
      ],
      "metadata": {
        "id": "1XOldOXpNwDu"
      },
      "execution_count": null,
      "outputs": []
    },
    {
      "cell_type": "code",
      "source": [
        "from sqlalchemy import create_engine\n",
        "engine = create_engine('sqlite://', echo=False)\n",
        "\n",
        "# export the dataframe as a table 'playstore' to the sqlite engine\n",
        "df_netflix.to_sql(\"netflix\", con =engine)"
      ],
      "metadata": {
        "id": "lL5hxYykOAhJ"
      },
      "execution_count": null,
      "outputs": []
    },
    {
      "cell_type": "code",
      "source": [
        "sql='''\n",
        "Select * from netflix\n",
        "limit 10\n",
        "''';\n",
        "df_sql = pd.read_sql_query(sql,con=engine)\n",
        "df_sql\n"
      ],
      "metadata": {
        "id": "XcU3tIFnOYYy"
      },
      "execution_count": null,
      "outputs": []
    },
    {
      "cell_type": "code",
      "source": [
        "sql='''\n",
        "Select distinct(show_id) from netflix\n",
        "''';\n",
        "\n",
        "df_sql = pd.read_sql_query(sql,con=engine)\n",
        "df_sql.head()"
      ],
      "metadata": {
        "id": "rEfko4aNOfbK"
      },
      "execution_count": null,
      "outputs": []
    },
    {
      "cell_type": "code",
      "source": [
        "sql='''\n",
        "Select\n",
        "distinct(title) from netflix\n",
        "where release_year >2020\n",
        "''';\n",
        "\n",
        "df_sql = pd.read_sql_query(sql,con=engine)\n",
        "df_sql.head()"
      ],
      "metadata": {
        "id": "CfbnbuvEO16t"
      },
      "execution_count": null,
      "outputs": []
    },
    {
      "cell_type": "code",
      "source": [
        "sql='''\n",
        "Select\n",
        "distinct(title) from netflix\n",
        "where release_year > 2020 and title='Blood & Water' or release_year < 2021 and title='Kota Factory'and not country= 'India'\n",
        "''';\n",
        "\n",
        "df_sql = pd.read_sql_query(sql,con=engine)\n",
        "df_sql.head()"
      ],
      "metadata": {
        "id": "AHEFEbBhQOuw"
      },
      "execution_count": null,
      "outputs": []
    },
    {
      "cell_type": "code",
      "source": [
        "sql = '''\n",
        "Select distinct(title) as name from netflix\n",
        "order by title\n",
        "''';\n",
        "\n",
        "df_sql = pd.read_sql_query(sql,con=engine)\n",
        "df_sql.head()"
      ],
      "metadata": {
        "id": "0n7RJCo9Q0KF"
      },
      "execution_count": null,
      "outputs": []
    },
    {
      "cell_type": "code",
      "source": [
        "sql = '''\n",
        "Select * from netflix\n",
        "limit 5\n",
        "''';\n",
        "df_sql = pd.read_sql_query(sql,con = engine)\n",
        "df_sql.head()"
      ],
      "metadata": {
        "id": "dniDuVvcRwnN"
      },
      "execution_count": null,
      "outputs": []
    },
    {
      "cell_type": "code",
      "source": [
        "sql = '''\n",
        "Select\n",
        "min(release_year) as min_release_year,\n",
        "max(release_year) as max_release_year,\n",
        "count(distinct release_year) as count_of_release_year,\n",
        "round(avg(release_year),2) as avg_of_all_release_years,\n",
        "sum(release_year) as avg_of_all_release_years\n",
        "from netflix\n",
        "limit 1\n",
        "''';\n",
        "\n",
        "\n",
        "df_sql = pd.read_sql_query(sql,con = engine)\n",
        "df_sql.head()"
      ],
      "metadata": {
        "id": "qcgs45idSIUz"
      },
      "execution_count": null,
      "outputs": []
    },
    {
      "cell_type": "code",
      "source": [
        "sql = '''\n",
        "Select distinct ' country that End with ia :- '|| country as Value from netflix\n",
        "where country like '%ia'\n",
        "union all\n",
        "Select distinct ' country that Starts with ia :-' || country as Value from netflix\n",
        "where country like 'ia%'\n",
        "union all\n",
        "Select distinct ' country that has ia :- ' || country as Value from netflix\n",
        "where country like '%ia%'\n",
        "union all\n",
        "Select distinct ' country that starts and end with a :- ' || country as Value from netflix\n",
        "where country not like 'a%a%'\n",
        "\n",
        "''';\n",
        "\n",
        "df_sql = pd.read_sql_query(sql,con = engine)\n",
        "df_sql.tail()"
      ],
      "metadata": {
        "id": "-5xm9eNITAaL"
      },
      "execution_count": null,
      "outputs": []
    },
    {
      "cell_type": "code",
      "source": [
        "sql = '''\n",
        "Select * from netflix\n",
        "where country in ('India','United States','Austrailia')\n",
        "order by country asc\n",
        "''';\n",
        "\n",
        "df_sql = pd.read_sql_query(sql,con = engine)\n",
        "df_sql.head(10)"
      ],
      "metadata": {
        "id": "K4muxTC-t19J"
      },
      "execution_count": null,
      "outputs": []
    },
    {
      "cell_type": "code",
      "source": [
        "sql = '''\n",
        "select * from netflix\n",
        "where release_year between 2020 and 2021\n",
        "''';\n",
        "\n",
        "df_sql = pd.read_sql_query(sql,con = engine)\n",
        "df_sql.head()"
      ],
      "metadata": {
        "id": "uLJNoDK5ueNz"
      },
      "execution_count": null,
      "outputs": []
    },
    {
      "cell_type": "code",
      "source": [
        "sql = '''\n",
        "select\n",
        "n1.show_id as Show_idtable1,\n",
        "n2.type as Show_idTable2,\n",
        "n2.title as Showtable2\n",
        "from netflix n1\n",
        "join netflix n2 on n1.show_id = n2.show_id\n",
        "''';\n",
        "\n",
        "df_sql = pd.read_sql_query(sql,con = engine)\n",
        "df_sql.head()"
      ],
      "metadata": {
        "id": "S41L2bSfvd09"
      },
      "execution_count": null,
      "outputs": []
    },
    {
      "cell_type": "code",
      "source": [
        "sql = '''\n",
        "select * from netflix where country = 'India'\n",
        "union all\n",
        "select * from netflix  where country = 'United States'\n",
        "''';\n",
        "\n",
        "df_sql = pd.read_sql_query(sql,con = engine)\n",
        "df_sql.head()"
      ],
      "metadata": {
        "id": "K3jTIJ6VxsxW"
      },
      "execution_count": null,
      "outputs": []
    },
    {
      "cell_type": "code",
      "source": [
        "sql = '''\n",
        "select\n",
        "sum(case when country = 'India' then 1 else 0 end) as Shows_in_India,\n",
        "sum(case when country = 'United States' then 1 else 0 end) as Shows_in_United_States,\n",
        "sum(case when country = 'South Africa' then 1 else 0 end) as Shows_in_Austrailia\n",
        "from netflix\n",
        "''';\n",
        "\n",
        "df_sql = pd.read_sql_query(sql,con = engine)\n",
        "df_sql.head()"
      ],
      "metadata": {
        "id": "vx6JNRA9xszf"
      },
      "execution_count": null,
      "outputs": []
    },
    {
      "cell_type": "code",
      "source": [
        "sql = '''\n",
        "select distinct(a.title) from (select * from netflix) a\n",
        "\n",
        "''';\n",
        "\n",
        "df_sql = pd.read_sql_query(sql,con = engine)\n",
        "df_sql.head()"
      ],
      "metadata": {
        "id": "XBAXPRFExs3D"
      },
      "execution_count": null,
      "outputs": []
    },
    {
      "cell_type": "code",
      "source": [
        "sql = '''\n",
        "select coalesce(release_year,0) as first_non_zero_valu from netflix\n",
        "limit 10\n",
        "''';\n",
        "\n",
        "df_sql = pd.read_sql_query(sql,con = engine)\n",
        "df_sql.head()"
      ],
      "metadata": {
        "id": "hvkYdED40u9l"
      },
      "execution_count": null,
      "outputs": []
    },
    {
      "cell_type": "code",
      "source": [
        "sql = '''\n",
        "select cast(release_year as float) as first_non_zero_value from netflix\n",
        "''';\n",
        "\n",
        "df_sql = pd.read_sql_query(sql,con = engine)\n",
        "df_sql.head()"
      ],
      "metadata": {
        "id": "0BvoD00YVzPb"
      },
      "execution_count": null,
      "outputs": []
    },
    {
      "cell_type": "code",
      "source": [
        "sql = '''\n",
        "select\n",
        "title,\n",
        "release_year,\n",
        "case when release_year = lag(release_year) over (order by release_year asc) then 1 else 0 end as Back_to_Back\n",
        "from netflix\n",
        "order by release_year asc\n",
        "''';\n",
        "\n",
        "df_sql = pd.read_sql_query(sql,con = engine)\n",
        "df_sql.head(100)"
      ],
      "metadata": {
        "id": "8wo-l7BCXeuL"
      },
      "execution_count": null,
      "outputs": []
    },
    {
      "cell_type": "code",
      "source": [
        "sql= '''\n",
        "select title,type,director,\n",
        "ROW_NUMBER() OVER (ORDER BY\n",
        "title asc) as row_number\n",
        "from netflix\n",
        "group by title\n",
        "order by title asc\n",
        "''';\n",
        "\n",
        "df_sql = pd.read_sql_query(sql,con = engine)\n",
        "df_sql.head(100)"
      ],
      "metadata": {
        "id": "_5wgFIoLX8gw"
      },
      "execution_count": null,
      "outputs": []
    },
    {
      "cell_type": "code",
      "source": [
        "sql='''\n",
        "\n",
        "select a.value from (\n",
        "Select\n",
        "distinct ' country that End with ia :- '|| country as Value,\n",
        "DENSE_RANK() OVER (ORDER BY country asc) as rank from netflix\n",
        "where country like\"%ia\"\n",
        ")a\n",
        "where rank=1\n",
        "\n",
        "union all\n",
        "\n",
        "select a.value from (\n",
        "  Select\n",
        "distinct ' first country that starts with a :- '|| country as Value,\n",
        "DENSE_RANK() OVER (ORDER BY country asc) as rank from netflix\n",
        "where country like\"a%\"\n",
        ")a\n",
        "where rank=1\n",
        "\n",
        "union all\n",
        "\n",
        "select a.value from (\n",
        "Select\n",
        "distinct ' country that has a and minimum length 4 :- '|| country as Value,\n",
        "DENSE_RANK() OVER (ORDER BY country asc) as rank from netflix\n",
        "where country like\"a__%\"\n",
        ")a\n",
        "where rank=1\n",
        "\n",
        "''';\n",
        "\n",
        "\n",
        "df_sql = pd.read_sql_query(sql,con=engine)\n",
        "df_sql.head()"
      ],
      "metadata": {
        "id": "Wh0N8v8qYltB"
      },
      "execution_count": null,
      "outputs": []
    },
    {
      "cell_type": "code",
      "source": [
        "sql='''\n",
        "with b as (\n",
        "select\n",
        "a.country,\n",
        "a.count_of_shows,\n",
        "row_number () over (order by a.count_of_shows desc) as rank\n",
        "from\n",
        "(\n",
        "select\n",
        "count(distinct title) as count_of_shows,\n",
        "country\n",
        "from netflix\n",
        "group by country\n",
        ") a\n",
        ")\n",
        "select country as country_most_shows from b\n",
        "where  b.rank=1\n",
        " '''\n",
        "df_sql = pd.read_sql_query(sql,con=engine)\n",
        "df_sql.head()"
      ],
      "metadata": {
        "id": "QZHA4L9hZP1Q"
      },
      "execution_count": null,
      "outputs": []
    },
    {
      "cell_type": "code",
      "source": [],
      "metadata": {
        "id": "nq-lzUXhaPL_"
      },
      "execution_count": null,
      "outputs": []
    }
  ]
}